{
 "cells": [
  {
   "cell_type": "code",
   "execution_count": 22,
   "metadata": {},
   "outputs": [],
   "source": [
    "import pandas as pd\n",
    "import matplotlib.pyplot as plt\n",
    "import time\n",
    "from mlxtend.preprocessing import TransactionEncoder\n",
    "from mlxtend.frequent_patterns import apriori\n",
    "from mlxtend.frequent_patterns import association_rules\n",
    "\n",
    "order_df = pd.read_csv('./order.csv', encoding='gbk')\n",
    "customer_df = pd.read_csv('./customer.csv', encoding='gbk')\n",
    "date_df = pd.read_csv('./date.csv', encoding='gbk')\n",
    "product_df = pd.read_csv('./product.csv', encoding='gbk')"
   ]
  },
  {
   "cell_type": "code",
   "execution_count": null,
   "metadata": {},
   "outputs": [],
   "source": [
    "order_df.head(5)"
   ]
  },
  {
   "cell_type": "code",
   "execution_count": 49,
   "metadata": {},
   "outputs": [
    {
     "data": {
      "text/plain": [
       "array([0, 0, 0, 0, 0, 0, 0, 0, 0, 0, 0, 0, 0, 0, 0, 0, 0])"
      ]
     },
     "execution_count": 49,
     "metadata": {},
     "output_type": "execute_result"
    }
   ],
   "source": [
    "pd.isnull(order_df).sum().values"
   ]
  },
  {
   "cell_type": "code",
   "execution_count": 20,
   "metadata": {},
   "outputs": [
    {
     "data": {
      "text/plain": [
       "7"
      ]
     },
     "execution_count": 20,
     "metadata": {},
     "output_type": "execute_result"
    }
   ],
   "source": [
    "order_df.duplicated().sum()"
   ]
  },
  {
   "cell_type": "code",
   "execution_count": 23,
   "metadata": {},
   "outputs": [
    {
     "data": {
      "text/plain": [
       "0"
      ]
     },
     "execution_count": 23,
     "metadata": {},
     "output_type": "execute_result"
    }
   ],
   "source": [
    "order_df = order_df.drop_duplicates()\n",
    "order_df.duplicated().sum()"
   ]
  },
  {
   "cell_type": "code",
   "execution_count": null,
   "metadata": {},
   "outputs": [],
   "source": [
    "order_df['订单日期']=pd.to_datetime(order_df['订单日期'])\n",
    "order_df = order_df.groupby(['订单日期', '客户ID'])['产品名称'].unique()\n",
    "order_df.tail(20)"
   ]
  },
  {
   "cell_type": "code",
   "execution_count": null,
   "metadata": {},
   "outputs": [],
   "source": [
    "transactions = []\n",
    "for value in order_df:\n",
    "    transactions.append(list(value))"
   ]
  },
  {
   "cell_type": "code",
   "execution_count": 46,
   "metadata": {},
   "outputs": [
    {
     "data": {
      "text/html": [
       "<div>\n",
       "<style scoped>\n",
       "    .dataframe tbody tr th:only-of-type {\n",
       "        vertical-align: middle;\n",
       "    }\n",
       "\n",
       "    .dataframe tbody tr th {\n",
       "        vertical-align: top;\n",
       "    }\n",
       "\n",
       "    .dataframe thead th {\n",
       "        text-align: right;\n",
       "    }\n",
       "</style>\n",
       "<table border=\"1\" class=\"dataframe\">\n",
       "  <thead>\n",
       "    <tr style=\"text-align: right;\">\n",
       "      <th></th>\n",
       "      <th>antecedents</th>\n",
       "      <th>consequents</th>\n",
       "      <th>antecedent support</th>\n",
       "      <th>consequent support</th>\n",
       "      <th>support</th>\n",
       "      <th>confidence</th>\n",
       "      <th>lift</th>\n",
       "      <th>leverage</th>\n",
       "      <th>conviction</th>\n",
       "    </tr>\n",
       "  </thead>\n",
       "  <tbody>\n",
       "    <tr>\n",
       "      <th>0</th>\n",
       "      <td>(棒球手套)</td>\n",
       "      <td>(头盔)</td>\n",
       "      <td>0.356434</td>\n",
       "      <td>0.233145</td>\n",
       "      <td>0.100261</td>\n",
       "      <td>0.281288</td>\n",
       "      <td>1.206494</td>\n",
       "      <td>0.017160</td>\n",
       "      <td>1.066985</td>\n",
       "    </tr>\n",
       "    <tr>\n",
       "      <th>1</th>\n",
       "      <td>(头盔)</td>\n",
       "      <td>(棒球手套)</td>\n",
       "      <td>0.233145</td>\n",
       "      <td>0.356434</td>\n",
       "      <td>0.100261</td>\n",
       "      <td>0.430036</td>\n",
       "      <td>1.206494</td>\n",
       "      <td>0.017160</td>\n",
       "      <td>1.129134</td>\n",
       "    </tr>\n",
       "    <tr>\n",
       "      <th>2</th>\n",
       "      <td>(头盔)</td>\n",
       "      <td>(球棒与球棒袋)</td>\n",
       "      <td>0.233145</td>\n",
       "      <td>0.172605</td>\n",
       "      <td>0.043559</td>\n",
       "      <td>0.186830</td>\n",
       "      <td>1.082416</td>\n",
       "      <td>0.003317</td>\n",
       "      <td>1.017494</td>\n",
       "    </tr>\n",
       "    <tr>\n",
       "      <th>3</th>\n",
       "      <td>(球棒与球棒袋)</td>\n",
       "      <td>(头盔)</td>\n",
       "      <td>0.172605</td>\n",
       "      <td>0.233145</td>\n",
       "      <td>0.043559</td>\n",
       "      <td>0.252360</td>\n",
       "      <td>1.082416</td>\n",
       "      <td>0.003317</td>\n",
       "      <td>1.025701</td>\n",
       "    </tr>\n",
       "    <tr>\n",
       "      <th>4</th>\n",
       "      <td>(硬式棒球)</td>\n",
       "      <td>(头盔)</td>\n",
       "      <td>0.292128</td>\n",
       "      <td>0.233145</td>\n",
       "      <td>0.048990</td>\n",
       "      <td>0.167700</td>\n",
       "      <td>0.719293</td>\n",
       "      <td>-0.019118</td>\n",
       "      <td>0.921368</td>\n",
       "    </tr>\n",
       "    <tr>\n",
       "      <th>5</th>\n",
       "      <td>(头盔)</td>\n",
       "      <td>(硬式棒球)</td>\n",
       "      <td>0.233145</td>\n",
       "      <td>0.292128</td>\n",
       "      <td>0.048990</td>\n",
       "      <td>0.210126</td>\n",
       "      <td>0.719293</td>\n",
       "      <td>-0.019118</td>\n",
       "      <td>0.896183</td>\n",
       "    </tr>\n",
       "  </tbody>\n",
       "</table>\n",
       "</div>"
      ],
      "text/plain": [
       "  antecedents consequents  antecedent support  consequent support   support  \\\n",
       "0      (棒球手套)        (头盔)            0.356434            0.233145  0.100261   \n",
       "1        (头盔)      (棒球手套)            0.233145            0.356434  0.100261   \n",
       "2        (头盔)    (球棒与球棒袋)            0.233145            0.172605  0.043559   \n",
       "3    (球棒与球棒袋)        (头盔)            0.172605            0.233145  0.043559   \n",
       "4      (硬式棒球)        (头盔)            0.292128            0.233145  0.048990   \n",
       "5        (头盔)      (硬式棒球)            0.233145            0.292128  0.048990   \n",
       "\n",
       "   confidence      lift  leverage  conviction  \n",
       "0    0.281288  1.206494  0.017160    1.066985  \n",
       "1    0.430036  1.206494  0.017160    1.129134  \n",
       "2    0.186830  1.082416  0.003317    1.017494  \n",
       "3    0.252360  1.082416  0.003317    1.025701  \n",
       "4    0.167700  0.719293 -0.019118    0.921368  \n",
       "5    0.210126  0.719293 -0.019118    0.896183  "
      ]
     },
     "execution_count": 46,
     "metadata": {},
     "output_type": "execute_result"
    }
   ],
   "source": [
    "te = TransactionEncoder()\n",
    "encode = te.fit(transactions).transform(transactions)\n",
    "\n",
    "data = pd.DataFrame(encode, columns=te.columns_)\n",
    "support = apriori(data, min_support=0.04, use_colnames=True)\n",
    "support.sort_values(by = \"support\")\n",
    "confidence = association_rules(support, metric='confidence', min_threshold=0.15)\n",
    "confidence"
   ]
  },
  {
   "cell_type": "code",
   "execution_count": 29,
   "metadata": {},
   "outputs": [
    {
     "data": {
      "text/html": [
       "<div>\n",
       "<style scoped>\n",
       "    .dataframe tbody tr th:only-of-type {\n",
       "        vertical-align: middle;\n",
       "    }\n",
       "\n",
       "    .dataframe tbody tr th {\n",
       "        vertical-align: top;\n",
       "    }\n",
       "\n",
       "    .dataframe thead th {\n",
       "        text-align: right;\n",
       "    }\n",
       "</style>\n",
       "<table border=\"1\" class=\"dataframe\">\n",
       "  <thead>\n",
       "    <tr style=\"text-align: right;\">\n",
       "      <th></th>\n",
       "      <th>support</th>\n",
       "      <th>itemsets</th>\n",
       "    </tr>\n",
       "  </thead>\n",
       "  <tbody>\n",
       "    <tr>\n",
       "      <th>0</th>\n",
       "      <td>0.076798</td>\n",
       "      <td>(三角网架)</td>\n",
       "    </tr>\n",
       "    <tr>\n",
       "      <th>1</th>\n",
       "      <td>0.051778</td>\n",
       "      <td>(击打手套)</td>\n",
       "    </tr>\n",
       "    <tr>\n",
       "      <th>2</th>\n",
       "      <td>0.078463</td>\n",
       "      <td>(垒球)</td>\n",
       "    </tr>\n",
       "    <tr>\n",
       "      <th>3</th>\n",
       "      <td>0.233145</td>\n",
       "      <td>(头盔)</td>\n",
       "    </tr>\n",
       "    <tr>\n",
       "      <th>4</th>\n",
       "      <td>0.079296</td>\n",
       "      <td>(帽子)</td>\n",
       "    </tr>\n",
       "    <tr>\n",
       "      <th>5</th>\n",
       "      <td>0.356434</td>\n",
       "      <td>(棒球手套)</td>\n",
       "    </tr>\n",
       "    <tr>\n",
       "      <th>6</th>\n",
       "      <td>0.120646</td>\n",
       "      <td>(棒球服)</td>\n",
       "    </tr>\n",
       "    <tr>\n",
       "      <th>7</th>\n",
       "      <td>0.172605</td>\n",
       "      <td>(球棒与球棒袋)</td>\n",
       "    </tr>\n",
       "    <tr>\n",
       "      <th>8</th>\n",
       "      <td>0.292128</td>\n",
       "      <td>(硬式棒球)</td>\n",
       "    </tr>\n",
       "    <tr>\n",
       "      <th>9</th>\n",
       "      <td>0.179955</td>\n",
       "      <td>(软式棒球)</td>\n",
       "    </tr>\n",
       "    <tr>\n",
       "      <th>10</th>\n",
       "      <td>0.100261</td>\n",
       "      <td>(棒球手套, 头盔)</td>\n",
       "    </tr>\n",
       "    <tr>\n",
       "      <th>11</th>\n",
       "      <td>0.043559</td>\n",
       "      <td>(头盔, 球棒与球棒袋)</td>\n",
       "    </tr>\n",
       "    <tr>\n",
       "      <th>12</th>\n",
       "      <td>0.048990</td>\n",
       "      <td>(硬式棒球, 头盔)</td>\n",
       "    </tr>\n",
       "  </tbody>\n",
       "</table>\n",
       "</div>"
      ],
      "text/plain": [
       "     support      itemsets\n",
       "0   0.076798        (三角网架)\n",
       "1   0.051778        (击打手套)\n",
       "2   0.078463          (垒球)\n",
       "3   0.233145          (头盔)\n",
       "4   0.079296          (帽子)\n",
       "5   0.356434        (棒球手套)\n",
       "6   0.120646         (棒球服)\n",
       "7   0.172605      (球棒与球棒袋)\n",
       "8   0.292128        (硬式棒球)\n",
       "9   0.179955        (软式棒球)\n",
       "10  0.100261    (棒球手套, 头盔)\n",
       "11  0.043559  (头盔, 球棒与球棒袋)\n",
       "12  0.048990    (硬式棒球, 头盔)"
      ]
     },
     "execution_count": 29,
     "metadata": {},
     "output_type": "execute_result"
    }
   ],
   "source": [
    "support"
   ]
  },
  {
   "cell_type": "code",
   "execution_count": 30,
   "metadata": {},
   "outputs": [
    {
     "data": {
      "image/png": "[encoded data removed]",
      "text/plain": [
       "<Figure size 720x648 with 1 Axes>"
      ]
     },
     "metadata": {
      "needs_background": "light"
     },
     "output_type": "display_data"
    }
   ],
   "source": [
    "support_nums = support['support']\n",
    "items = support['itemsets']\n",
    "items_str = []\n",
    "for i in items:\n",
    "    items_str.append(','.join(list(i)))\n",
    "    \n",
    "from matplotlib import font_manager\n",
    "from matplotlib.font_manager import FontProperties\n",
    "font = FontProperties(fname=r\"./SimHei.ttf\", size=15)\n",
    "plt.figure(figsize=(10, 9))\n",
    "plt.bar(items_str, support_nums)\n",
    "plt.xlabel('产品名称', fontproperties=font)\n",
    "plt.ylabel('support')\n",
    "plt.xticks(rotation=90, fontsize=10, fontproperties=font)\n",
    "\n",
    "plt.show()"
   ]
  },
  {
   "cell_type": "code",
   "execution_count": null,
   "metadata": {},
   "outputs": [],
   "source": [
    "pip install mlxtend -i https://pypi.tuna.tsinghua.edu.cn/simple some-package"
   ]
  },
  {
   "cell_type": "code",
   "execution_count": null,
   "metadata": {},
   "outputs": [],
   "source": [
    "pip install efficient_apriori"
   ]
  }
 ],
 "metadata": {
  "kernelspec": {
   "display_name": "Python 3",
   "language": "python",
   "name": "python3"
  },
  "language_info": {
   "codemirror_mode": {
    "name": "ipython",
    "version": 3
   },
   "file_extension": ".py",
   "mimetype": "text/x-python",
   "name": "python",
   "nbconvert_exporter": "python",
   "pygments_lexer": "ipython3",
   "version": "3.6.5"
  },
  "tianchi_metadata": {
   "competitions": [],
   "datasets": [
    {
     "id": "97825",
     "title": "【教学赛】数据分析达人赛2:产品关联分析"
    }
   ],
   "description": "",
   "notebookId": "275903",
   "source": "dsw"
  }
 },
 "nbformat": 4,
 "nbformat_minor": 4
}
